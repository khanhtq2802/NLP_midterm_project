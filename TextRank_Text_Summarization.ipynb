{
  "nbformat": 4,
  "nbformat_minor": 0,
  "metadata": {
    "colab": {
      "provenance": []
    },
    "kernelspec": {
      "name": "python3",
      "display_name": "Python 3"
    }
  },
  "cells": [
    {
      "cell_type": "code",
      "source": [
        "!wget http://nlp.stanford.edu/data/glove.6B.zip\n",
        "!unzip glove*.zip"
      ],
      "metadata": {
        "colab": {
          "base_uri": "https://localhost:8080/"
        },
        "id": "q2LtF8gejx6n",
        "outputId": "41ad5a91-3257-46e2-8e68-dd95c616b603"
      },
      "execution_count": null,
      "outputs": [
        {
          "output_type": "stream",
          "name": "stdout",
          "text": [
            "--2023-07-13 23:37:51--  http://nlp.stanford.edu/data/glove.6B.zip\n",
            "Resolving nlp.stanford.edu (nlp.stanford.edu)... 171.64.67.140\n",
            "Connecting to nlp.stanford.edu (nlp.stanford.edu)|171.64.67.140|:80... connected.\n",
            "HTTP request sent, awaiting response... 302 Found\n",
            "Location: https://nlp.stanford.edu/data/glove.6B.zip [following]\n",
            "--2023-07-13 23:37:51--  https://nlp.stanford.edu/data/glove.6B.zip\n",
            "Connecting to nlp.stanford.edu (nlp.stanford.edu)|171.64.67.140|:443... connected.\n",
            "HTTP request sent, awaiting response... 301 Moved Permanently\n",
            "Location: https://downloads.cs.stanford.edu/nlp/data/glove.6B.zip [following]\n",
            "--2023-07-13 23:37:51--  https://downloads.cs.stanford.edu/nlp/data/glove.6B.zip\n",
            "Resolving downloads.cs.stanford.edu (downloads.cs.stanford.edu)... 171.64.64.22\n",
            "Connecting to downloads.cs.stanford.edu (downloads.cs.stanford.edu)|171.64.64.22|:443... connected.\n",
            "HTTP request sent, awaiting response... 200 OK\n",
            "Length: 862182613 (822M) [application/zip]\n",
            "Saving to: ‘glove.6B.zip’\n",
            "\n",
            "glove.6B.zip        100%[===================>] 822.24M  5.01MB/s    in 2m 39s  \n",
            "\n",
            "2023-07-13 23:40:30 (5.18 MB/s) - ‘glove.6B.zip’ saved [862182613/862182613]\n",
            "\n",
            "Archive:  glove.6B.zip\n",
            "  inflating: glove.6B.50d.txt        \n",
            "  inflating: glove.6B.100d.txt       \n",
            "  inflating: glove.6B.200d.txt       \n",
            "  inflating: glove.6B.300d.txt       \n"
          ]
        }
      ]
    },
    {
      "cell_type": "code",
      "source": [
        "import numpy as np\n",
        "\n",
        "# Extract word vectors\n",
        "word_embeddings = {}\n",
        "f = open('glove.6B.100d.txt', encoding='utf-8')\n",
        "for line in f:\n",
        "    values = line.split()\n",
        "    word = values[0]\n",
        "    coefs = np.asarray(values[1:], dtype='float32')\n",
        "    word_embeddings[word] = coefs\n",
        "f.close()\n",
        "len(word_embeddings)"
      ],
      "metadata": {
        "colab": {
          "base_uri": "https://localhost:8080/"
        },
        "id": "20dkgMLRmL6Z",
        "outputId": "ed956d16-988f-4649-a3a9-9d228efd2776"
      },
      "execution_count": 5,
      "outputs": [
        {
          "output_type": "execute_result",
          "data": {
            "text/plain": [
              "400000"
            ]
          },
          "metadata": {},
          "execution_count": 5
        }
      ]
    },
    {
      "cell_type": "code",
      "source": [
        "import re\n",
        "import nltk\n",
        "import numpy as np\n",
        "from nltk.corpus import stopwords\n",
        "from sklearn.metrics.pairwise import cosine_similarity\n",
        "\n",
        "nltk.download('punkt')\n",
        "nltk.download('stopwords')\n",
        "\n",
        "def extractive_summarization(text, n):\n",
        "    # Split the text into sentences\n",
        "    sentences = nltk.sent_tokenize(text)\n",
        "\n",
        "    # Remove punctuations, numbers, and special characters\n",
        "    sentences_cleaned = [re.sub('[^a-zA-Z]', ' ', sentence) for sentence in sentences]\n",
        "\n",
        "    # Make alphabets lowercase\n",
        "    sentences_cleaned = [sentence.lower() for sentence in sentences_cleaned]\n",
        "\n",
        "    # Remove stopwords\n",
        "    stop_words = set(stopwords.words('english'))\n",
        "    sentences_cleaned = [[word for word in sentence.split() if word not in stop_words] for sentence in sentences_cleaned]\n",
        "\n",
        "    # Convert sentences to sentence vectors using word_embeddings\n",
        "    sentence_vectors = []\n",
        "    for sentence in sentences_cleaned:\n",
        "        vector = np.zeros((100,))\n",
        "        count = 0\n",
        "        for word in sentence:\n",
        "            if word in word_embeddings:\n",
        "                vector += word_embeddings[word]\n",
        "                count += 1\n",
        "        if count != 0:\n",
        "            vector /= count\n",
        "        sentence_vectors.append(vector)\n",
        "\n",
        "    # Calculate cosine similarity between sentence vectors\n",
        "    similarity_matrix = cosine_similarity(sentence_vectors, sentence_vectors)\n",
        "\n",
        "    # Calculate scores for sentences\n",
        "    scores = np.sum(similarity_matrix, axis=1)\n",
        "\n",
        "    # Sort sentences based on scores in descending order\n",
        "    ranked_sentences_indices = np.argsort(scores)[::-1]\n",
        "\n",
        "    # Select the top n sentences for the summary\n",
        "    ranked_sentences = [sentences[i] for i in ranked_sentences_indices[:n]]\n",
        "\n",
        "    # Restore original order of sentences\n",
        "    restored_sentences = [sentence for _, sentence in sorted(zip(ranked_sentences_indices, ranked_sentences))]\n",
        "\n",
        "    # Combine restored sentences into the final summary\n",
        "    summary = ' '.join(restored_sentences)\n",
        "\n",
        "    return summary\n"
      ],
      "metadata": {
        "colab": {
          "base_uri": "https://localhost:8080/"
        },
        "id": "zqYzRQG6jysP",
        "outputId": "eebb7280-fb0d-4ebe-a818-d8f5499c0d8f"
      },
      "execution_count": 6,
      "outputs": [
        {
          "output_type": "stream",
          "name": "stderr",
          "text": [
            "[nltk_data] Downloading package punkt to /root/nltk_data...\n",
            "[nltk_data]   Unzipping tokenizers/punkt.zip.\n",
            "[nltk_data] Downloading package stopwords to /root/nltk_data...\n",
            "[nltk_data]   Unzipping corpora/stopwords.zip.\n"
          ]
        }
      ]
    },
    {
      "cell_type": "code",
      "source": [
        "text = '''Education is the transmission of knowledge, skills, and character traits. There are many debates about its precise definition, for example, about which aims it tries to achieve. A further issue is whether part of the meaning of education is that the change in the student is an improvement. Some researchers stress the role of critical thinking in distinguishing education from indoctrination. These disagreements affect how to identify, measure, and improve forms of education. The term can also refer to the mental states and qualities of educated people. Additionally, it can mean the academic field studying education.\n",
        "There are many types of education. Formal education happens in a complex institutional framework, like public schools. Non-formal education is also structured but happens outside the formal schooling system. Informal education is unstructured learning through daily experiences. Formal and non-formal education are divided into levels. They include early childhood education, primary education, secondary education, and tertiary education. Other classifications focus on the teaching method, like teacher-centered and student-centered education. Forms of education can also be distinguished by subject, like science education, language education, and physical education.\n",
        "Education socializes children into society by teaching cultural values and norms. It equips them with the skills needed to become productive members of society. This way, it stimulates economic growth and raises awareness of local and global problems. Organized institutions affect many aspects of education. For example, governments set education policies. They determine when school classes happen, what is taught, and who can or must attend. International organizations, like UNESCO, have been influential in promoting primary education for all children.\n",
        "Many factors influence whether education is successful. Psychological factors include motivation, intelligence, and personality. Social factors, like socioeconomic status, ethnicity, and gender, are often linked to discrimination. Further factors include educational technology, teacher quality, and parent involvement.\n",
        "The main field investigating education is called education studies. It examines what education is and what aims it has. It also studies how it happens, what effects it has, and how to improve it. It has many subfields, like philosophy of education, psychology of education, sociology of education, economics of education, and comparative education. It also discusses the history of education. In prehistory, education happened informally through oral communication and imitation. With the rise of ancient civilizations, writing was invented, and the amount of knowledge grew. This caused a shift from informal to formal education. Initially, formal education was mainly available to elites and religious groups. The invention of the printing press in the 15th century made books more widely available. This increased general literacy. Beginning in the 18th and 19th centuries, public education became more important. It led to the worldwide process of making primary education available to all, free of charge, and compulsory up to a certain age.'''"
      ],
      "metadata": {
        "id": "2JasSDv6j68x"
      },
      "execution_count": 7,
      "outputs": []
    },
    {
      "cell_type": "code",
      "source": [
        "extractive_summarization(text, 2)"
      ],
      "metadata": {
        "colab": {
          "base_uri": "https://localhost:8080/",
          "height": 53
        },
        "id": "CaAA6R11kgV6",
        "outputId": "296a5ed0-2fca-406c-a13d-711ab7f9f25d"
      },
      "execution_count": 8,
      "outputs": [
        {
          "output_type": "execute_result",
          "data": {
            "text/plain": [
              "'A further issue is whether part of the meaning of education is that the change in the student is an improvement. Forms of education can also be distinguished by subject, like science education, language education, and physical education.'"
            ],
            "application/vnd.google.colaboratory.intrinsic+json": {
              "type": "string"
            }
          },
          "metadata": {},
          "execution_count": 8
        }
      ]
    },
    {
      "cell_type": "code",
      "source": [
        "! gdown --id 1_-JauywBQBxQgbLXA-4492-qzSSQmCQr"
      ],
      "metadata": {
        "colab": {
          "base_uri": "https://localhost:8080/"
        },
        "id": "dV-AsxKkNSs7",
        "outputId": "95e51edf-58d7-450b-96a0-33da9bc9a4ea"
      },
      "execution_count": 25,
      "outputs": [
        {
          "output_type": "stream",
          "name": "stdout",
          "text": [
            "/usr/local/lib/python3.10/dist-packages/gdown/cli.py:121: FutureWarning: Option `--id` was deprecated in version 4.3.1 and will be removed in 5.0. You don't need to pass it anymore to use a file ID.\n",
            "  warnings.warn(\n",
            "Downloading...\n",
            "From: https://drive.google.com/uc?id=1_-JauywBQBxQgbLXA-4492-qzSSQmCQr\n",
            "To: /content/test.csv.zip\n",
            "100% 18.9M/18.9M [00:00<00:00, 88.8MB/s]\n"
          ]
        }
      ]
    },
    {
      "cell_type": "code",
      "source": [
        "!unzip test.csv.zip"
      ],
      "metadata": {
        "colab": {
          "base_uri": "https://localhost:8080/"
        },
        "id": "waIiRVOTPEkQ",
        "outputId": "fb1849be-a67e-49b4-c240-d011d0e0104e"
      },
      "execution_count": 27,
      "outputs": [
        {
          "output_type": "stream",
          "name": "stdout",
          "text": [
            "Archive:  test.csv.zip\n",
            "  inflating: test.csv                \n"
          ]
        }
      ]
    },
    {
      "cell_type": "code",
      "source": [
        "import pandas as pd\n",
        "from rouge_score import rouge_scorer\n",
        "import nltk\n",
        "\n",
        "# Load the CSV file\n",
        "df = pd.read_csv('test.csv')\n",
        "\n",
        "# Calculate N as the number of sentences in the Summary column\n",
        "df['Summary_sentences'] = df['highlights'].apply(nltk.sent_tokenize)\n",
        "df['N'] = df['Summary_sentences'].apply(len)\n",
        "\n",
        "# Initialize the RougeScorer\n",
        "scorer = rouge_scorer.RougeScorer(['rouge1', 'rouge2', 'rougeL'], use_stemmer=True)\n",
        "\n",
        "# Initialize a list to store the Rouge scores\n",
        "rouge_scores = {'rouge1': 0, 'rouge2': 0, 'rougeL': 0}\n",
        "\n",
        "# Loop through each row in the dataframe\n",
        "for _, row in df.iterrows():\n",
        "    article = row['article']\n",
        "    summary = row['highlights']\n",
        "    n = row['N']\n",
        "\n",
        "    # Generate the summary using extractive summarization\n",
        "    generated_summary = extractive_summarization(article, n)\n",
        "\n",
        "    # Calculate Rouge scores\n",
        "    scores = scorer.score(summary, generated_summary)\n",
        "\n",
        "    # Accumulate Rouge scores\n",
        "    for metric in rouge_scores:\n",
        "        rouge_scores[metric] += scores[metric].fmeasure\n",
        "\n",
        "num_examples = len(df)\n",
        "\n",
        "# Calculate average Rouge scores\n",
        "for metric in rouge_scores:\n",
        "    rouge_scores[metric] /= num_examples\n",
        "\n",
        "# Print average Rouge scores\n",
        "print(\"Average Rouge Scores:\")\n",
        "for metric, score in rouge_scores.items():\n",
        "    print(f\"{metric}: {score}\")"
      ],
      "metadata": {
        "colab": {
          "base_uri": "https://localhost:8080/"
        },
        "id": "MnW8xYTNOjMF",
        "outputId": "66f34961-80dd-4e5b-f6ee-5fa3222b5d04"
      },
      "execution_count": 28,
      "outputs": [
        {
          "output_type": "stream",
          "name": "stdout",
          "text": [
            "Average Rouge Scores:\n",
            "rouge1: 0.307775614345949\n",
            "rouge2: 0.10497020798066341\n",
            "rougeL: 0.18745117715400356\n"
          ]
        }
      ]
    }
  ]
}